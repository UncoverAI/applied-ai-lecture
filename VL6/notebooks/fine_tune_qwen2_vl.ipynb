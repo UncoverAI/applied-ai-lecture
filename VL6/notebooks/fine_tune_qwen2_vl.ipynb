{
 "cells": [
  {
   "cell_type": "code",
   "execution_count": null,
   "metadata": {},
   "outputs": [],
   "source": [
    "from datasets import load_dataset\n",
    "\n",
    "val_ds = load_dataset(\"HuggingFaceM4/ChartQA\", split=\"val\")\n",
    "val_ds"
   ]
  },
  {
   "cell_type": "code",
   "execution_count": null,
   "metadata": {},
   "outputs": [],
   "source": [
    "def show_sample(ds, index: int = 0):\n",
    "    query = ds[index][\"query\"]\n",
    "    print(query)\n",
    "    label = ds[index][\"label\"]\n",
    "    print(label)\n",
    "    image = ds[index][\"image\"]\n",
    "    return image\n",
    "show_sample(val_ds)"
   ]
  },
  {
   "cell_type": "code",
   "execution_count": null,
   "metadata": {},
   "outputs": [],
   "source": [
    "from transformers import Qwen2VLForConditionalGeneration, AutoProcessor\n",
    "\n",
    "processor = AutoProcessor.from_pretrained(\"Qwen/Qwen2-VL-7B-Instruct\")\n",
    "# Load the model in half-precision on the available device(s)\n",
    "model = Qwen2VLForConditionalGeneration.from_pretrained(\n",
    "    \"Qwen/Qwen2-VL-7B-Instruct\", torch_dtype=\"auto\", device_map=\"auto\"\n",
    ")\n",
    "model"
   ]
  },
  {
   "cell_type": "code",
   "execution_count": null,
   "metadata": {},
   "outputs": [],
   "source": [
    "def chat(model, processor, conversation, image, verbose = True):\n",
    "    # Preprocess the inputs\n",
    "    text_prompt = processor.apply_chat_template(conversation, add_generation_prompt=True)\n",
    "    if verbose:\n",
    "        print(text_prompt)\n",
    "    inputs = processor(\n",
    "        text=[text_prompt], images=[image], padding=True, return_tensors=\"pt\"\n",
    "    )\n",
    "    inputs = inputs.to(model.device)\n",
    "    if verbose:\n",
    "        print([f\"{key}: {value.shape}\" for key, value in inputs.items()])\n",
    "    # Inference: Generation of the output\n",
    "    output_ids = model.generate(**inputs, max_new_tokens=128)\n",
    "    generated_ids = [\n",
    "        output_ids[len(input_ids) :]\n",
    "        for input_ids, output_ids in zip(inputs.input_ids, output_ids)\n",
    "    ]\n",
    "    output_text = processor.batch_decode(\n",
    "        generated_ids, skip_special_tokens=True, clean_up_tokenization_spaces=True\n",
    "    )\n",
    "    return output_text[0]"
   ]
  },
  {
   "cell_type": "code",
   "execution_count": null,
   "metadata": {},
   "outputs": [],
   "source": [
    "def make_conversation(sample):\n",
    "    sample[\"conversation\"] = [\n",
    "        {\"role\": \"user\", \"content\": [{\"type\": \"image\"},{\"type\": \"text\",  \"text\": sample[\"query\"]}]},\n",
    "        # {\"role\": \"assistant\", \"content\": [{\"type\": \"text\",  \"text\": sample[\"label\"][0]}]}\n",
    "    ]\n",
    "    return sample\n",
    "val_ds = val_ds.map(make_conversation, num_proc=16)\n",
    "val_ds"
   ]
  },
  {
   "cell_type": "code",
   "execution_count": null,
   "metadata": {},
   "outputs": [],
   "source": [
    "index = 2\n",
    "show_sample(val_ds, index)"
   ]
  },
  {
   "cell_type": "code",
   "execution_count": null,
   "metadata": {},
   "outputs": [],
   "source": [
    "result = chat(model, processor, val_ds[index][\"conversation\"], val_ds[index][\"image\"])\n",
    "print(result)"
   ]
  },
  {
   "cell_type": "code",
   "execution_count": null,
   "metadata": {},
   "outputs": [],
   "source": [
    "val_ds.select(range(5))"
   ]
  },
  {
   "cell_type": "code",
   "execution_count": null,
   "metadata": {},
   "outputs": [],
   "source": [
    "def eval(model, processor, ds, result_path):\n",
    "    model.eval()\n",
    "    results = []\n",
    "    for i, sample in enumerate(ds):\n",
    "        output = chat(model, processor, sample[\"conversation\"], sample[\"image\"], verbose=False)\n",
    "        results.append(output)\n",
    "        print(f\"Iteration {i}\\n{output}\\n\\n{'#'*120}\")\n",
    "    ds = ds.add_column(\"results\", results)\n",
    "    ds = ds.remove_columns(\"image\")\n",
    "    with open(result_path, \"wb\") as f:\n",
    "        ds.to_json(f)\n",
    "    return ds\n",
    "eval_ds = eval(model,processor ,val_ds.select(range(2)), \"./eval_result.jsonl\")"
   ]
  },
  {
   "cell_type": "code",
   "execution_count": null,
   "metadata": {},
   "outputs": [],
   "source": [
    "import yaml\n",
    "with open(\"./config.yaml\") as f:\n",
    "    yaml_dict = yaml.safe_load(f)\n",
    "yaml_dict"
   ]
  },
  {
   "cell_type": "code",
   "execution_count": null,
   "metadata": {},
   "outputs": [],
   "source": [
    "from pydantic import BaseModel\n",
    "\n",
    "class EvalConfig(BaseModel):\n",
    "    dataset: str\n",
    "    split: str\n",
    "    model: str\n",
    "    num_proc: int\n",
    "    output_path: str\n",
    "    torch_dtype:str\n",
    "    device_map:str\n",
    "    max_new_tokens: int\n",
    "\n",
    "eval_config = EvalConfig(**yaml_dict)\n",
    "eval_config"
   ]
  }
 ],
 "metadata": {
  "kernelspec": {
   "display_name": "Python 3",
   "language": "python",
   "name": "python3"
  },
  "language_info": {
   "codemirror_mode": {
    "name": "ipython",
    "version": 3
   },
   "file_extension": ".py",
   "mimetype": "text/x-python",
   "name": "python",
   "nbconvert_exporter": "python",
   "pygments_lexer": "ipython3",
   "version": "3.10.12"
  }
 },
 "nbformat": 4,
 "nbformat_minor": 2
}
