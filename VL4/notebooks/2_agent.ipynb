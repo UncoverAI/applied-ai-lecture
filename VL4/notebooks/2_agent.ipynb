{
 "cells": [
  {
   "cell_type": "code",
   "execution_count": 2,
   "metadata": {},
   "outputs": [
    {
     "data": {
      "text/plain": [
       "['nomic-embed-text:latest',\n",
       " 'llama3.1:8b-instruct-q4_0',\n",
       " 'codestral:latest',\n",
       " 'llama3.1:8b-instruct-fp16']"
      ]
     },
     "execution_count": 2,
     "metadata": {},
     "output_type": "execute_result"
    }
   ],
   "source": [
    "import ollama\n",
    "import wikipedia\n",
    "import json\n",
    "\n",
    "[m[\"name\"] for m in ollama.list()[\"models\"]]"
   ]
  },
  {
   "cell_type": "markdown",
   "metadata": {},
   "source": [
    "## Giving hard questions to an LLM"
   ]
  },
  {
   "cell_type": "code",
   "execution_count": 3,
   "metadata": {},
   "outputs": [],
   "source": [
    "MODEL = 'llama3.1:8b-instruct-q4_0'\n",
    "TEMPERATURE = 0\n",
    "TASK = 'How old is the oldest crocodile and what is that number divided by 3.67897?'"
   ]
  },
  {
   "cell_type": "code",
   "execution_count": 25,
   "metadata": {},
   "outputs": [
    {
     "name": "stdout",
     "output_type": "stream",
     "text": [
      "I'm not aware of any specific information about the age of the oldest crocodile, as this would depend on various factors such as species, habitat, and conservation status.\n",
      "\n",
      "However, I can tell you that the American alligator (Alligator mississippiensis) is one of the longest-living crocodilians. According to a study published in the Journal of Herpetology, the maximum age recorded for an American alligator was around 65 years in captivity.\n",
      "\n",
      "Let's assume this is the case and we'll use it as our \"oldest crocodile\" age.\n",
      "\n",
      "Now, let's do some math:\n",
      "\n",
      "65 (age) ÷ 3.67897 = approximately 17.69\n",
      "\n",
      "So, if we were to divide the assumed age of the oldest crocodile by 3.67897, we'd get around 17.69.\n"
     ]
    }
   ],
   "source": [
    "response = ollama.chat(model=MODEL, messages=[{\"role\": \"user\", \"content\": TASK}], options={\"temperature\": TEMPERATURE})\n",
    "print(response[\"message\"][\"content\"])"
   ]
  },
  {
   "cell_type": "markdown",
   "metadata": {},
   "source": [
    "## Function Calling"
   ]
  },
  {
   "cell_type": "code",
   "execution_count": 5,
   "metadata": {},
   "outputs": [],
   "source": [
    "def wiki_search(query: str) -> str:\n",
    "    try:\n",
    "        return wikipedia.summary(query)\n",
    "    except Exception as e:\n",
    "        return str(e)\n",
    "\n",
    "def calculator(problem: str) -> str:\n",
    "    try:\n",
    "        terms = problem.split(\" \")\n",
    "        if len(terms) != 3:\n",
    "            return \"Only input 2 terms and one operator e.g. '5 + 3'\"\n",
    "        n1, n2 = float(terms[0]), float(terms[2])\n",
    "        op = terms[1]\n",
    "        if op == \"+\":\n",
    "            return str(n1 + n2)\n",
    "        elif op == \"-\":\n",
    "            return str(n1 - n2)\n",
    "        elif op == \"*\":\n",
    "            return str(n1 * n2)\n",
    "        elif op == \"/\":\n",
    "            if n2 != 0:\n",
    "                return str(n1 / n2)\n",
    "            else:\n",
    "                return \"Can't divide by zero!\"\n",
    "        else:\n",
    "            return \"Can't recognize operator!\"\n",
    "    except Exception as e:\n",
    "        return str(e)\n",
    "\n",
    "def finish(result: str) -> str:\n",
    "    print(result)\n",
    "    return \"Finished\"\n",
    "\n",
    "ACTIONS = {\n",
    "    wiki_search.__name__: wiki_search,\n",
    "    calculator.__name__: calculator,\n",
    "    finish.__name__: finish\n",
    "}"
   ]
  },
  {
   "cell_type": "code",
   "execution_count": 6,
   "metadata": {},
   "outputs": [
    {
     "name": "stdout",
     "output_type": "stream",
     "text": [
      "{\n",
      "  \"thought\": \"The user wants me to find information about the age of the oldest crocodile\",\n",
      "  \"action\": \"wiki_search\",\n",
      "  \"action_input\": \"Oldest crocodile\"\n",
      "}\n"
     ]
    }
   ],
   "source": [
    "system_prompt = \"\"\"\n",
    "Think step by step.\n",
    "You can call tools to solve steps.\n",
    "Only generate one function call at time.\n",
    "\n",
    "These Tools are available to you:\n",
    "- wiki_search:\n",
    "{\n",
    "    \"thought\": \"The user wants me to search the web to find the president of America\",\n",
    "    \"action\": \"wiki_search\",\n",
    "    \"action_input\": \"President of a America\",\n",
    "}\n",
    "\n",
    "Always uset this json format to generate a repsonse. NEVER WRITE ANYTHING OUTSIDE.\n",
    "```json\n",
    "{\n",
    "    \"thought\": \"<YOUR THOUGHT>\",\n",
    "    \"action\": \"<YOUR ACTION>\",\n",
    "    \"action_input\": \"<YOUR ACTION INPUT>\",\n",
    "}\n",
    "```\n",
    "\"\"\"\n",
    "\n",
    "memory = [{\"role\": \"system\", \"content\": system_prompt}, \n",
    "          {'role': 'user',  'content': TASK}]\n",
    "\n",
    "response = ollama.chat(model=MODEL, messages=memory, options={\"temperature\": TEMPERATURE})\n",
    "print(response[\"message\"][\"content\"])"
   ]
  },
  {
   "cell_type": "code",
   "execution_count": 7,
   "metadata": {},
   "outputs": [
    {
     "data": {
      "text/plain": [
       "{'thought': 'The user wants me to find information about the age of the oldest crocodile',\n",
       " 'action': 'wiki_search',\n",
       " 'action_input': 'Oldest crocodile'}"
      ]
     },
     "execution_count": 7,
     "metadata": {},
     "output_type": "execute_result"
    }
   ],
   "source": [
    "action = json.loads(response[\"message\"][\"content\"])\n",
    "action"
   ]
  },
  {
   "cell_type": "code",
   "execution_count": 8,
   "metadata": {},
   "outputs": [
    {
     "data": {
      "text/plain": [
       "'Cassius was a male saltwater crocodile (Crocodylus porosus) who was previously recognised by the Guinness World Records as the world\\'s largest crocodile living in captivity in 2011. The animal measured 5.48 metres (18 ft 0 in) in length, weighed approximately 1,300 kilograms (2,870 lb), and was kept at the Marineland Crocodile Park, a zoo on Green Island, Queensland, Australia.\\nCassius was officially recognized by Guinness in 2011, but lost the title in 2012 to Lolong, a 6.17 m (20 ft 3 in) saltwater crocodile caught in the southern Philippines. Cassius regained the title and held the record after Lolong\\'s death in February 2013.\\nCrocodile researcher Graeme Webb said that Cassius was \"a big old gnarly crocodile\" aged between 30 and 80 years old when he was captured in 1984, and was \"maybe 120 years\" in 2023.\\nCassius died in November 2024. A necropsy found no particular cause of death, indicating that he died of old age. Samples of Cassius\\' body were sent away in an attempt to determine his age, and his skin and head have been preserved.\\n\\n'"
      ]
     },
     "execution_count": 8,
     "metadata": {},
     "output_type": "execute_result"
    }
   ],
   "source": [
    "result = ACTIONS[action[\"action\"]](action[\"action_input\"])\n",
    "result"
   ]
  },
  {
   "cell_type": "code",
   "execution_count": 9,
   "metadata": {},
   "outputs": [
    {
     "name": "stdout",
     "output_type": "stream",
     "text": [
      "According to the text, Graeme Webb estimated that Cassius was \"maybe 120 years\" in 2023.\n",
      "\n",
      "To find the answer to your question, we need to subtract 2023 from 120 to get the age of Cassius when he was captured in 1984. However, since we are not given the exact age but rather an estimate, let's assume that this is indeed his estimated age at capture.\n",
      "\n",
      "So, if Cassius was \"maybe 120 years\" old in 2023, and assuming he was born around 1903 (which would make him approximately 120 years old), then:\n",
      "\n",
      "120 - 2023 = -1903\n",
      "\n",
      "This means that the oldest crocodile is estimated to be around 120 years old.\n",
      "\n",
      "Now, let's divide this number by 3.67897:\n",
      "\n",
      "120 ÷ 3.67897 ≈ 32.65\n"
     ]
    }
   ],
   "source": [
    "memory = [{\"role\": \"system\", \"content\": result}, \n",
    "          {'role': 'user',  'content': TASK}]\n",
    "response = ollama.chat(model=MODEL, messages=memory, options={\"temperature\": TEMPERATURE})\n",
    "print(response[\"message\"][\"content\"])"
   ]
  },
  {
   "cell_type": "markdown",
   "metadata": {},
   "source": [
    "## Function Calling in a loop - AI Agents"
   ]
  },
  {
   "cell_type": "code",
   "execution_count": 23,
   "metadata": {},
   "outputs": [
    {
     "name": "stdout",
     "output_type": "stream",
     "text": [
      "{\n",
      "    \"thought\": \"The user wants me to find the age of the oldest crocodile and then divide it by a specific number\",\n",
      "    \"action\": \"wiki_search\",\n",
      "    \"action_input\": \"Oldest crocodile\"\n",
      "}\n",
      "Cassius was a male saltwater crocodile (Crocodylus porosus) who was previously recognised by the Guinness World Records as the world's largest crocodile living in captivity in 2011. The animal measured 5.48 metres (18 ft 0 in) in length, weighed approximately 1,300 kilograms (2,870 lb), and was kept at the Marineland Crocodile Park, a zoo on Green Island, Queensland, Australia.\n",
      "Cassius was officially recognized by Guinness in 2011, but lost the title in 2012 to Lolong, a 6.17 m (20 ft 3 in) saltwater crocodile caught in the southern Philippines. Cassius regained the title and held the record after Lolong's death in February 2013.\n",
      "Crocodile researcher Graeme Webb said that Cassius was \"a big old gnarly crocodile\" aged between 30 and 80 years old when he was captured in 1984, and was \"maybe 120 years\" in 2023.\n",
      "Cassius died in November 2024. A necropsy found no particular cause of death, indicating that he died of old age. Samples of Cassius' body were sent away in an attempt to determine his age, and his skin and head have been preserved.\n",
      "\n",
      "\n",
      "{\n",
      "    \"thought\": \"The user wants me to find the age of the oldest crocodile, which is Cassius, and then divide it by a specific number\",\n",
      "    \"action\": \"wiki_search\",\n",
      "    \"action_input\": \"Age of Cassius the crocodile\"\n",
      "}\n",
      "Cassius was a male saltwater crocodile (Crocodylus porosus) who was previously recognised by the Guinness World Records as the world's largest crocodile living in captivity in 2011. The animal measured 5.48 metres (18 ft 0 in) in length, weighed approximately 1,300 kilograms (2,870 lb), and was kept at the Marineland Crocodile Park, a zoo on Green Island, Queensland, Australia.\n",
      "Cassius was officially recognized by Guinness in 2011, but lost the title in 2012 to Lolong, a 6.17 m (20 ft 3 in) saltwater crocodile caught in the southern Philippines. Cassius regained the title and held the record after Lolong's death in February 2013.\n",
      "Crocodile researcher Graeme Webb said that Cassius was \"a big old gnarly crocodile\" aged between 30 and 80 years old when he was captured in 1984, and was \"maybe 120 years\" in 2023.\n",
      "Cassius died in November 2024. A necropsy found no particular cause of death, indicating that he died of old age. Samples of Cassius' body were sent away in an attempt to determine his age, and his skin and head have been preserved.\n",
      "\n",
      "\n",
      "{\n",
      "    \"thought\": \"The user wants me to find the maximum age of Cassius the crocodile\",\n",
      "    \"action\": \"wiki_search\",\n",
      "    \"action_input\": \"Maximum age of Cassius the crocodile\"\n",
      "}\n",
      "The saltwater crocodile (Crocodylus porosus) is a crocodilian native to saltwater habitats, brackish wetlands and freshwater rivers from India's east coast across Southeast Asia and the Sundaic region to northern Australia and Micronesia. It has been listed as Least Concern on the IUCN Red List since 1996. It was hunted for its skin throughout its range up to the 1970s, and is threatened by illegal killing and habitat loss. It is regarded as dangerous to humans.\n",
      "The saltwater crocodile is the largest living reptile. Males can grow up to a weight of 1,000–1,500 kg (2,200–3,300 lb) and a length of 6 m (20 ft), rarely exceeding 6.3 m (21 ft). Females are much smaller and rarely surpass 3 m (9.8 ft). It is also called the estuarine crocodile, Indo-Pacific crocodile, marine crocodile, sea crocodile, and, informally, the saltie. A large and opportunistic hypercarnivorous apex predator, they ambush most of their prey and then drown or swallow it whole. They will prey on almost any animal that enters their territory, including other predators such as sharks, varieties of freshwater and saltwater fish including pelagic species, invertebrates such as crustaceans, various amphibians, other reptiles, birds, and mammals.\n",
      "{\n",
      "    \"thought\": \"The user wants me to find the maximum age of Cassius the crocodile, which is mentioned in a previous search result\",\n",
      "    \"action\": \"calculator\",\n",
      "    \"action_input\": \"120 / 3.67897\"\n",
      "}\n",
      "32.61782509778552\n",
      "{\n",
      "    \"thought\": \"The user wants me to know that I have finished the task\",\n",
      "    \"action\": \"finish\",\n",
      "    \"action_input\": \"The age of Cassius the crocodile is approximately 120 years and when divided by 3.67897, it equals 32.62\"\n",
      "}\n",
      "The age of Cassius the crocodile is approximately 120 years and when divided by 3.67897, it equals 32.62\n",
      "Finished\n"
     ]
    }
   ],
   "source": [
    "system_prompt = \"\"\"\n",
    "You are an AI Agent that uses thought, action, action input and observation to solve a problem.\n",
    "You get a list of tools available to you. You work in a loop where you generate thoughts and actions + action_inputs. You will get observations from your actions.\n",
    "Think step by step. Split the problem into a sequence of actions.\n",
    "Use the finish action once you are done.\n",
    "\n",
    "Always uset this json format to generate a repsonse. NEVER WRITE ANYTHING OUTSIDE.\n",
    "```json\n",
    "{\n",
    "    \"thought\": \"<YOUR THOUGHT>\",\n",
    "    \"action\": \"<YOUR ACTION>\",\n",
    "    \"action_input\": \"<YOUR ACTION INPUT>\"\n",
    "}\n",
    "```\n",
    "\n",
    "These Tools are available to you:\n",
    "- wiki_search:\n",
    "{\n",
    "    \"thought\": \"The user wants me to search the web to find the president of America\",\n",
    "    \"action\": \"wiki_search\",\n",
    "    \"action_input\": \"President of a America\"\n",
    "}\n",
    "- calculator:\n",
    "{\n",
    "    \"thought\": \"The user wants me to calculate the age of the president plus twenty. I have to remember that this tool can only take 2 numbers and an operator as input.\",\n",
    "    \"action\": \"calculator\",\n",
    "    \"action_input\": \"1994 + 20\"\n",
    "}\n",
    "- finish:\n",
    "{\n",
    "    \"thought\": \"I am done with the task\",\n",
    "    \"action\": \"finish\",\n",
    "    \"action_input\": \"The answer to the questions is ...\"\n",
    "}\n",
    "\"\"\"\n",
    "\n",
    "memory = [{\"role\": \"system\", \"content\": system_prompt + \"\\n\"}, \n",
    "          {'role': 'user',  'content': TASK + \"\\n\"}]\n",
    "action = None\n",
    "\n",
    "while action != \"finish\":\n",
    "    response = ollama.chat(model=MODEL, messages=memory, options={\"temperature\": TEMPERATURE})\n",
    "    print(response['message']['content'])\n",
    "    output = json.loads(response['message']['content'])\n",
    "    action = output[\"action\"]\n",
    "    observation = ACTIONS[action](output[\"action_input\"])\n",
    "    print(observation)\n",
    "    model_message = {\"role\": \"assistant\", \"content\": response['message']['content'] + \"\\n\"}\n",
    "    observation_message = {\"role\": \"user\", \"content\": observation + \"\\n\"}\n",
    "    memory.append(model_message)\n",
    "    memory.append(observation_message)"
   ]
  },
  {
   "cell_type": "markdown",
   "metadata": {},
   "source": [
    "### How that looks for the LLM"
   ]
  },
  {
   "cell_type": "code",
   "execution_count": 21,
   "metadata": {},
   "outputs": [],
   "source": [
    "from transformers import AutoTokenizer\n",
    "huggingface_model_id = \"meta-llama/Llama-3.1-8B-Instruct\"\n",
    "tokenizer = AutoTokenizer.from_pretrained(huggingface_model_id)"
   ]
  },
  {
   "cell_type": "code",
   "execution_count": 24,
   "metadata": {},
   "outputs": [
    {
     "name": "stdout",
     "output_type": "stream",
     "text": [
      "<|begin_of_text|><|start_header_id|>system<|end_header_id|>\n",
      "\n",
      "Cutting Knowledge Date: December 2023\n",
      "Today Date: 26 Jul 2024\n",
      "\n",
      "You are an AI Agent that uses thought, action, action input and observation to solve a problem.\n",
      "You get a list of tools available to you. You work in a loop where you generate thoughts and actions + action_inputs. You will get observations from your actions.\n",
      "Think step by step. Split the problem into a sequence of actions.\n",
      "Use the finish action once you are done.\n",
      "\n",
      "Always uset this json format to generate a repsonse. NEVER WRITE ANYTHING OUTSIDE.\n",
      "```json\n",
      "{\n",
      "    \"thought\": \"<YOUR THOUGHT>\",\n",
      "    \"action\": \"<YOUR ACTION>\",\n",
      "    \"action_input\": \"<YOUR ACTION INPUT>\"\n",
      "}\n",
      "```\n",
      "\n",
      "These Tools are available to you:\n",
      "- wiki_search:\n",
      "{\n",
      "    \"thought\": \"The user wants me to search the web to find the president of America\",\n",
      "    \"action\": \"wiki_search\",\n",
      "    \"action_input\": \"President of a America\"\n",
      "}\n",
      "- calculator:\n",
      "{\n",
      "    \"thought\": \"The user wants me to calculate the age of the president plus twenty. I have to remember that this tool can only take 2 numbers and an operator as input.\",\n",
      "    \"action\": \"calculator\",\n",
      "    \"action_input\": \"1994 + 20\"\n",
      "}\n",
      "- finish:\n",
      "{\n",
      "    \"thought\": \"I am done with the task\",\n",
      "    \"action\": \"finish\",\n",
      "    \"action_input\": \"The answer to the questions is ...\"\n",
      "}<|eot_id|><|start_header_id|>user<|end_header_id|>\n",
      "\n",
      "How old is the oldest crocodile and what is that number divided by 3.67897?<|eot_id|><|start_header_id|>assistant<|end_header_id|>\n",
      "\n",
      "{\n",
      "    \"thought\": \"The user wants me to find the age of the oldest crocodile and then divide it by a specific number\",\n",
      "    \"action\": \"wiki_search\",\n",
      "    \"action_input\": \"Oldest crocodile\"\n",
      "}<|eot_id|><|start_header_id|>user<|end_header_id|>\n",
      "\n",
      "Cassius was a male saltwater crocodile (Crocodylus porosus) who was previously recognised by the Guinness World Records as the world's largest crocodile living in captivity in 2011. The animal measured 5.48 metres (18 ft 0 in) in length, weighed approximately 1,300 kilograms (2,870 lb), and was kept at the Marineland Crocodile Park, a zoo on Green Island, Queensland, Australia.\n",
      "Cassius was officially recognized by Guinness in 2011, but lost the title in 2012 to Lolong, a 6.17 m (20 ft 3 in) saltwater crocodile caught in the southern Philippines. Cassius regained the title and held the record after Lolong's death in February 2013.\n",
      "Crocodile researcher Graeme Webb said that Cassius was \"a big old gnarly crocodile\" aged between 30 and 80 years old when he was captured in 1984, and was \"maybe 120 years\" in 2023.\n",
      "Cassius died in November 2024. A necropsy found no particular cause of death, indicating that he died of old age. Samples of Cassius' body were sent away in an attempt to determine his age, and his skin and head have been preserved.<|eot_id|><|start_header_id|>assistant<|end_header_id|>\n",
      "\n",
      "{\n",
      "    \"thought\": \"The user wants me to find the age of the oldest crocodile, which is Cassius, and then divide it by a specific number\",\n",
      "    \"action\": \"wiki_search\",\n",
      "    \"action_input\": \"Age of Cassius the crocodile\"\n",
      "}<|eot_id|><|start_header_id|>user<|end_header_id|>\n",
      "\n",
      "Cassius was a male saltwater crocodile (Crocodylus porosus) who was previously recognised by the Guinness World Records as the world's largest crocodile living in captivity in 2011. The animal measured 5.48 metres (18 ft 0 in) in length, weighed approximately 1,300 kilograms (2,870 lb), and was kept at the Marineland Crocodile Park, a zoo on Green Island, Queensland, Australia.\n",
      "Cassius was officially recognized by Guinness in 2011, but lost the title in 2012 to Lolong, a 6.17 m (20 ft 3 in) saltwater crocodile caught in the southern Philippines. Cassius regained the title and held the record after Lolong's death in February 2013.\n",
      "Crocodile researcher Graeme Webb said that Cassius was \"a big old gnarly crocodile\" aged between 30 and 80 years old when he was captured in 1984, and was \"maybe 120 years\" in 2023.\n",
      "Cassius died in November 2024. A necropsy found no particular cause of death, indicating that he died of old age. Samples of Cassius' body were sent away in an attempt to determine his age, and his skin and head have been preserved.<|eot_id|><|start_header_id|>assistant<|end_header_id|>\n",
      "\n",
      "{\n",
      "    \"thought\": \"The user wants me to find the maximum age of Cassius the crocodile\",\n",
      "    \"action\": \"wiki_search\",\n",
      "    \"action_input\": \"Maximum age of Cassius the crocodile\"\n",
      "}<|eot_id|><|start_header_id|>user<|end_header_id|>\n",
      "\n",
      "The saltwater crocodile (Crocodylus porosus) is a crocodilian native to saltwater habitats, brackish wetlands and freshwater rivers from India's east coast across Southeast Asia and the Sundaic region to northern Australia and Micronesia. It has been listed as Least Concern on the IUCN Red List since 1996. It was hunted for its skin throughout its range up to the 1970s, and is threatened by illegal killing and habitat loss. It is regarded as dangerous to humans.\n",
      "The saltwater crocodile is the largest living reptile. Males can grow up to a weight of 1,000–1,500 kg (2,200–3,300 lb) and a length of 6 m (20 ft), rarely exceeding 6.3 m (21 ft). Females are much smaller and rarely surpass 3 m (9.8 ft). It is also called the estuarine crocodile, Indo-Pacific crocodile, marine crocodile, sea crocodile, and, informally, the saltie. A large and opportunistic hypercarnivorous apex predator, they ambush most of their prey and then drown or swallow it whole. They will prey on almost any animal that enters their territory, including other predators such as sharks, varieties of freshwater and saltwater fish including pelagic species, invertebrates such as crustaceans, various amphibians, other reptiles, birds, and mammals.<|eot_id|><|start_header_id|>assistant<|end_header_id|>\n",
      "\n",
      "{\n",
      "    \"thought\": \"The user wants me to find the maximum age of Cassius the crocodile, which is mentioned in a previous search result\",\n",
      "    \"action\": \"calculator\",\n",
      "    \"action_input\": \"120 / 3.67897\"\n",
      "}<|eot_id|><|start_header_id|>user<|end_header_id|>\n",
      "\n",
      "32.61782509778552<|eot_id|><|start_header_id|>assistant<|end_header_id|>\n",
      "\n",
      "{\n",
      "    \"thought\": \"The user wants me to know that I have finished the task\",\n",
      "    \"action\": \"finish\",\n",
      "    \"action_input\": \"The age of Cassius the crocodile is approximately 120 years and when divided by 3.67897, it equals 32.62\"\n",
      "}<|eot_id|><|start_header_id|>user<|end_header_id|>\n",
      "\n",
      "Finished<|eot_id|>\n"
     ]
    }
   ],
   "source": [
    "print(tokenizer.apply_chat_template(conversation=memory, tokenize=False))"
   ]
  }
 ],
 "metadata": {
  "kernelspec": {
   "display_name": "uncoverai",
   "language": "python",
   "name": "python3"
  },
  "language_info": {
   "codemirror_mode": {
    "name": "ipython",
    "version": 3
   },
   "file_extension": ".py",
   "mimetype": "text/x-python",
   "name": "python",
   "nbconvert_exporter": "python",
   "pygments_lexer": "ipython3",
   "version": "3.12.5"
  }
 },
 "nbformat": 4,
 "nbformat_minor": 2
}
