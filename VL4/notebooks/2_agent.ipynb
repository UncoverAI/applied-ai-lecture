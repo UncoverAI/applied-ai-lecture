{
 "cells": [
  {
   "cell_type": "code",
   "execution_count": null,
   "metadata": {},
   "outputs": [],
   "source": [
    "import ollama\n",
    "import wikipedia\n",
    "import json\n",
    "\n",
    "[m[\"name\"] for m in ollama.list()[\"models\"]]"
   ]
  },
  {
   "cell_type": "markdown",
   "metadata": {},
   "source": [
    "# Intro\n",
    "\n",
    "In the reseach world, there is 2 concepts that in my opinion make up what we today call \"AI Agent\":\n",
    "1. Chain of Though prompting: https://arxiv.org/abs/2201.11903\n",
    "2. Reasoning and Acting in Language Models: https://arxiv.org/abs/2210.03629\n",
    "\n",
    "As this is still very much an open-research topic, there is not one clear defintion of what an Agent or AI Agent is.\n",
    "\n",
    "I like to think about it the following way:\n",
    "An AI Agent is a system that can autonomously solve a task by interacting with its environment.\n",
    "\n",
    "Because that in the software world we can then translate/simplify to:\n",
    "\n",
    "A Software Program that gets a task in text form as input, and produces a sequence of function/API calls as output."
   ]
  },
  {
   "cell_type": "markdown",
   "metadata": {},
   "source": [
    "## Giving hard questions to an LLM"
   ]
  },
  {
   "cell_type": "code",
   "execution_count": null,
   "metadata": {},
   "outputs": [],
   "source": [
    "MODEL = 'llama3.1:8b-instruct-q4_0'\n",
    "TEMPERATURE = 0\n",
    "TASK = 'How old is the oldest crocodile and what is that number divided by 3.67897?'"
   ]
  },
  {
   "cell_type": "code",
   "execution_count": null,
   "metadata": {},
   "outputs": [],
   "source": [
    "response = ollama.chat(model=MODEL, messages=[{\"role\": \"user\", \"content\": TASK}], options={\"temperature\": TEMPERATURE})\n",
    "print(response[\"message\"][\"content\"])"
   ]
  },
  {
   "cell_type": "markdown",
   "metadata": {},
   "source": [
    "## Function Calling"
   ]
  },
  {
   "cell_type": "code",
   "execution_count": null,
   "metadata": {},
   "outputs": [],
   "source": [
    "def wiki_search(query: str) -> str:\n",
    "    try:\n",
    "        return wikipedia.summary(query)\n",
    "    except Exception as e:\n",
    "        return str(e)\n",
    "\n",
    "def calculator(problem: str) -> str:\n",
    "    try:\n",
    "        terms = problem.split(\" \")\n",
    "        if len(terms) != 3:\n",
    "            return \"Only input 2 terms and one operator e.g. '5 + 3'\"\n",
    "        n1, n2 = float(terms[0]), float(terms[2])\n",
    "        op = terms[1]\n",
    "        if op == \"+\":\n",
    "            return str(n1 + n2)\n",
    "        elif op == \"-\":\n",
    "            return str(n1 - n2)\n",
    "        elif op == \"*\":\n",
    "            return str(n1 * n2)\n",
    "        elif op == \"/\":\n",
    "            if n2 != 0:\n",
    "                return str(n1 / n2)\n",
    "            else:\n",
    "                return \"Can't divide by zero!\"\n",
    "        else:\n",
    "            return \"Can't recognize operator!\"\n",
    "    except Exception as e:\n",
    "        return str(e)\n",
    "\n",
    "def finish(result: str) -> str:\n",
    "    print(result)\n",
    "    return \"Finished\"\n",
    "\n",
    "ACTIONS = {\n",
    "    wiki_search.__name__: wiki_search,\n",
    "    calculator.__name__: calculator,\n",
    "    finish.__name__: finish\n",
    "}"
   ]
  },
  {
   "cell_type": "code",
   "execution_count": null,
   "metadata": {},
   "outputs": [],
   "source": [
    "system_prompt = \"\"\"\n",
    "Think step by step.\n",
    "You can call tools to solve steps.\n",
    "Only generate one function call at time.\n",
    "\n",
    "These Tools are available to you:\n",
    "- wiki_search:\n",
    "{\n",
    "    \"thought\": \"The user wants me to search the web to find the president of America\",\n",
    "    \"action\": \"wiki_search\",\n",
    "    \"action_input\": \"President of a America\",\n",
    "}\n",
    "\n",
    "Always uset this json format to generate a repsonse. NEVER WRITE ANYTHING OUTSIDE.\n",
    "```json\n",
    "{\n",
    "    \"thought\": \"<YOUR THOUGHT>\",\n",
    "    \"action\": \"<YOUR ACTION>\",\n",
    "    \"action_input\": \"<YOUR ACTION INPUT>\",\n",
    "}\n",
    "```\n",
    "\"\"\"\n",
    "\n",
    "memory = [{\"role\": \"system\", \"content\": system_prompt}, \n",
    "          {'role': 'user',  'content': TASK}]\n",
    "\n",
    "response = ollama.chat(model=MODEL, messages=memory, options={\"temperature\": TEMPERATURE})\n",
    "print(response[\"message\"][\"content\"])"
   ]
  },
  {
   "cell_type": "code",
   "execution_count": null,
   "metadata": {},
   "outputs": [],
   "source": [
    "action = json.loads(response[\"message\"][\"content\"])\n",
    "action"
   ]
  },
  {
   "cell_type": "code",
   "execution_count": null,
   "metadata": {},
   "outputs": [],
   "source": [
    "result = ACTIONS[action[\"action\"]](action[\"action_input\"])\n",
    "result"
   ]
  },
  {
   "cell_type": "code",
   "execution_count": null,
   "metadata": {},
   "outputs": [],
   "source": [
    "memory = [{\"role\": \"system\", \"content\": result}, \n",
    "          {'role': 'user',  'content': TASK}]\n",
    "response = ollama.chat(model=MODEL, messages=memory, options={\"temperature\": TEMPERATURE})\n",
    "print(response[\"message\"][\"content\"])"
   ]
  },
  {
   "cell_type": "markdown",
   "metadata": {},
   "source": [
    "## CoT + ReAct (Function Calling in a loop) --> AI Agent"
   ]
  },
  {
   "cell_type": "code",
   "execution_count": null,
   "metadata": {},
   "outputs": [],
   "source": [
    "system_prompt = \"\"\"\n",
    "You are an AI Agent that uses thought, action, action input and observation to solve a problem.\n",
    "You get a list of tools available to you. You work in a loop where you generate thoughts and actions + action_inputs. You will get observations from your actions.\n",
    "Think step by step. Split the problem into a sequence of actions.\n",
    "Use the finish action once you are done.\n",
    "\n",
    "Always uset this json format to generate a repsonse. NEVER WRITE ANYTHING OUTSIDE.\n",
    "```json\n",
    "{\n",
    "    \"thought\": \"<YOUR THOUGHT>\",\n",
    "    \"action\": \"<YOUR ACTION>\",\n",
    "    \"action_input\": \"<YOUR ACTION INPUT>\"\n",
    "}\n",
    "```\n",
    "\n",
    "These Tools are available to you:\n",
    "- wiki_search:\n",
    "{\n",
    "    \"thought\": \"The user wants me to search the web to find the president of America\",\n",
    "    \"action\": \"wiki_search\",\n",
    "    \"action_input\": \"President of a America\"\n",
    "}\n",
    "- calculator:\n",
    "{\n",
    "    \"thought\": \"The user wants me to calculate the age of the president plus twenty. I have to remember that this tool can only take 2 numbers and an operator as input.\",\n",
    "    \"action\": \"calculator\",\n",
    "    \"action_input\": \"1994 + 20\"\n",
    "}\n",
    "- finish:\n",
    "{\n",
    "    \"thought\": \"I am done with the task\",\n",
    "    \"action\": \"finish\",\n",
    "    \"action_input\": \"The answer to the questions is ...\"\n",
    "}\n",
    "\"\"\"\n",
    "\n",
    "memory = [{\"role\": \"system\", \"content\": system_prompt + \"\\n\"}, \n",
    "          {'role': 'user',  'content': TASK + \"\\n\"}]\n",
    "action = None\n",
    "\n",
    "while action != \"finish\":\n",
    "    response = ollama.chat(model=MODEL, messages=memory, options={\"temperature\": TEMPERATURE})\n",
    "    print(response['message']['content'])\n",
    "    output = json.loads(response['message']['content'])\n",
    "    action = output[\"action\"]\n",
    "    observation = ACTIONS[action](output[\"action_input\"])\n",
    "    print(observation)\n",
    "    model_message = {\"role\": \"assistant\", \"content\": response['message']['content'] + \"\\n\"}\n",
    "    observation_message = {\"role\": \"user\", \"content\": observation + \"\\n\"}\n",
    "    memory.append(model_message)\n",
    "    memory.append(observation_message)"
   ]
  },
  {
   "cell_type": "markdown",
   "metadata": {},
   "source": [
    "### How that looks for the LLM"
   ]
  },
  {
   "cell_type": "code",
   "execution_count": null,
   "metadata": {},
   "outputs": [],
   "source": [
    "from transformers import AutoTokenizer\n",
    "huggingface_model_id = \"meta-llama/Llama-3.1-8B-Instruct\"\n",
    "tokenizer = AutoTokenizer.from_pretrained(huggingface_model_id)"
   ]
  },
  {
   "cell_type": "code",
   "execution_count": null,
   "metadata": {},
   "outputs": [],
   "source": [
    "print(tokenizer.apply_chat_template(conversation=memory, tokenize=False))"
   ]
  }
 ],
 "metadata": {
  "kernelspec": {
   "display_name": "uncoverai",
   "language": "python",
   "name": "python3"
  },
  "language_info": {
   "codemirror_mode": {
    "name": "ipython",
    "version": 3
   },
   "file_extension": ".py",
   "mimetype": "text/x-python",
   "name": "python",
   "nbconvert_exporter": "python",
   "pygments_lexer": "ipython3",
   "version": "3.12.5"
  }
 },
 "nbformat": 4,
 "nbformat_minor": 2
}
